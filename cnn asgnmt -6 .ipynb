{
 "cells": [
  {
   "cell_type": "code",
   "execution_count": 1,
   "metadata": {},
   "outputs": [],
   "source": [
    "from tensorflow.keras.models import Sequential\n",
    "from tensorflow.keras.layers import Dense\n",
    "from tensorflow.keras.layers import Convolution2D\n",
    "from tensorflow.keras.layers import MaxPooling2D\n",
    "from tensorflow.keras.layers import Flatten"
   ]
  },
  {
   "cell_type": "code",
   "execution_count": 2,
   "metadata": {},
   "outputs": [],
   "source": [
    "from keras.preprocessing.image import ImageDataGenerator\n",
    "train_datagen=ImageDataGenerator(rescale=1./255,shear_range=0.2,zoom_range=0.2,horizontal_flip=True)\n",
    "test_datagen=ImageDataGenerator(rescale=1./255)"
   ]
  },
  {
   "cell_type": "code",
   "execution_count": 3,
   "metadata": {},
   "outputs": [
    {
     "name": "stdout",
     "output_type": "stream",
     "text": [
      "Found 1677 images belonging to 5 classes.\n",
      "Found 750 images belonging to 5 classes.\n"
     ]
    }
   ],
   "source": [
    "x_train=train_datagen.flow_from_directory(r\"D:\\geethanjaliexternship\\source files\\flowers\\trainset\",target_size = (64,64) , batch_size = 32 , class_mode = \"categorical\")\n",
    "x_test=test_datagen.flow_from_directory(r\"D:\\geethanjaliexternship\\source files\\flowers\\testset\",target_size = (64,64) , batch_size = 32 , class_mode = \"categorical\")"
   ]
  },
  {
   "cell_type": "code",
   "execution_count": 4,
   "metadata": {},
   "outputs": [],
   "source": [
    "model=Sequential()"
   ]
  },
  {
   "cell_type": "code",
   "execution_count": 5,
   "metadata": {},
   "outputs": [],
   "source": [
    "model.add(Convolution2D(32,(3,3),input_shape=(64,64,3),activation=\"relu\"))"
   ]
  },
  {
   "cell_type": "code",
   "execution_count": 6,
   "metadata": {},
   "outputs": [],
   "source": [
    "model.add(MaxPooling2D(2,2))"
   ]
  },
  {
   "cell_type": "code",
   "execution_count": 7,
   "metadata": {},
   "outputs": [],
   "source": [
    "model.add(Flatten())"
   ]
  },
  {
   "cell_type": "code",
   "execution_count": 8,
   "metadata": {},
   "outputs": [],
   "source": [
    "model.add(Dense(units=512,activation=\"relu\",kernel_initializer=\"random_uniform\"))"
   ]
  },
  {
   "cell_type": "code",
   "execution_count": 9,
   "metadata": {},
   "outputs": [],
   "source": [
    "model.add(Dense(units=5,activation=\"softmax\",kernel_initializer=\"random_uniform\"))"
   ]
  },
  {
   "cell_type": "code",
   "execution_count": 10,
   "metadata": {},
   "outputs": [],
   "source": [
    "model.compile(\"sgd\",loss=\"categorical_crossentropy\",metrics=[\"accuracy\"])"
   ]
  },
  {
   "cell_type": "code",
   "execution_count": 11,
   "metadata": {},
   "outputs": [
    {
     "name": "stderr",
     "output_type": "stream",
     "text": [
      "C:\\Users\\heart\\Anaconda3\\lib\\site-packages\\tensorflow\\python\\keras\\engine\\training.py:1844: UserWarning: `Model.fit_generator` is deprecated and will be removed in a future version. Please use `Model.fit`, which supports generators.\n",
      "  warnings.warn('`Model.fit_generator` is deprecated and '\n"
     ]
    },
    {
     "name": "stdout",
     "output_type": "stream",
     "text": [
      "Epoch 1/20\n",
      "45/45 [==============================] - 23s 496ms/step - loss: 1.5829 - accuracy: 0.2748 - val_loss: 1.5215 - val_accuracy: 0.3375\n",
      "Epoch 2/20\n",
      "45/45 [==============================] - 19s 413ms/step - loss: 1.4599 - accuracy: 0.3728 - val_loss: 1.4020 - val_accuracy: 0.3781\n",
      "Epoch 3/20\n",
      "45/45 [==============================] - 18s 389ms/step - loss: 1.3784 - accuracy: 0.3997 - val_loss: 1.4370 - val_accuracy: 0.3438\n",
      "Epoch 4/20\n",
      "45/45 [==============================] - 18s 389ms/step - loss: 1.3475 - accuracy: 0.4376 - val_loss: 1.3174 - val_accuracy: 0.4375\n",
      "Epoch 5/20\n",
      "45/45 [==============================] - 21s 463ms/step - loss: 1.2852 - accuracy: 0.4513 - val_loss: 1.3730 - val_accuracy: 0.3422\n",
      "Epoch 6/20\n",
      "45/45 [==============================] - 25s 552ms/step - loss: 1.2219 - accuracy: 0.4644 - val_loss: 1.2827 - val_accuracy: 0.4375\n",
      "Epoch 7/20\n",
      "45/45 [==============================] - 21s 470ms/step - loss: 1.1786 - accuracy: 0.5086 - val_loss: 1.3295 - val_accuracy: 0.4328\n",
      "Epoch 8/20\n",
      "45/45 [==============================] - 21s 472ms/step - loss: 1.1985 - accuracy: 0.4805 - val_loss: 1.6722 - val_accuracy: 0.2953\n",
      "Epoch 9/20\n",
      "45/45 [==============================] - 21s 466ms/step - loss: 1.2098 - accuracy: 0.4842 - val_loss: 1.2539 - val_accuracy: 0.4563\n",
      "Epoch 10/20\n",
      "45/45 [==============================] - 21s 468ms/step - loss: 1.1481 - accuracy: 0.5226 - val_loss: 1.2303 - val_accuracy: 0.4734\n",
      "Epoch 11/20\n",
      "45/45 [==============================] - 21s 465ms/step - loss: 1.1133 - accuracy: 0.5381 - val_loss: 1.1938 - val_accuracy: 0.5016\n",
      "Epoch 12/20\n",
      "45/45 [==============================] - 22s 482ms/step - loss: 1.0910 - accuracy: 0.5689 - val_loss: 1.2182 - val_accuracy: 0.5188\n",
      "Epoch 13/20\n",
      "45/45 [==============================] - 21s 470ms/step - loss: 1.0573 - accuracy: 0.5748 - val_loss: 1.2607 - val_accuracy: 0.4750\n",
      "Epoch 14/20\n",
      "45/45 [==============================] - 21s 463ms/step - loss: 1.1231 - accuracy: 0.5507 - val_loss: 1.2344 - val_accuracy: 0.4859\n",
      "Epoch 15/20\n",
      "45/45 [==============================] - 21s 460ms/step - loss: 1.0482 - accuracy: 0.5796 - val_loss: 1.2053 - val_accuracy: 0.4953\n",
      "Epoch 16/20\n",
      "45/45 [==============================] - 21s 465ms/step - loss: 1.0502 - accuracy: 0.5816 - val_loss: 1.2333 - val_accuracy: 0.4844\n",
      "Epoch 17/20\n",
      "45/45 [==============================] - 21s 469ms/step - loss: 1.0279 - accuracy: 0.5838 - val_loss: 1.2884 - val_accuracy: 0.5031\n",
      "Epoch 18/20\n",
      "45/45 [==============================] - 21s 463ms/step - loss: 0.9838 - accuracy: 0.6028 - val_loss: 1.2396 - val_accuracy: 0.5188\n",
      "Epoch 19/20\n",
      "45/45 [==============================] - 21s 459ms/step - loss: 1.0250 - accuracy: 0.5958 - val_loss: 1.2201 - val_accuracy: 0.4969\n",
      "Epoch 20/20\n",
      "45/45 [==============================] - 21s 462ms/step - loss: 0.9992 - accuracy: 0.6129 - val_loss: 1.1903 - val_accuracy: 0.5000\n"
     ]
    },
    {
     "data": {
      "text/plain": [
       "<tensorflow.python.keras.callbacks.History at 0x262edeff2e8>"
      ]
     },
     "execution_count": 11,
     "metadata": {},
     "output_type": "execute_result"
    }
   ],
   "source": [
    "model.fit_generator(x_train ,steps_per_epoch = 45,epochs=20, validation_data=x_test ,validation_steps = 20)"
   ]
  },
  {
   "cell_type": "code",
   "execution_count": 12,
   "metadata": {},
   "outputs": [],
   "source": [
    "model.save(\"flowers.h5\")"
   ]
  },
  {
   "cell_type": "code",
   "execution_count": 13,
   "metadata": {},
   "outputs": [],
   "source": [
    "from tensorflow.keras.models import load_model\n",
    "from tensorflow.keras.preprocessing import image\n",
    "import cv2\n",
    "import numpy as np"
   ]
  },
  {
   "cell_type": "code",
   "execution_count": 14,
   "metadata": {},
   "outputs": [],
   "source": [
    "index=[\"daisy\",\"dandelion\",\"rose\",\"sunflower\",\"tulip\"]"
   ]
  },
  {
   "cell_type": "code",
   "execution_count": 15,
   "metadata": {},
   "outputs": [],
   "source": [
    "model=load_model(\"flowers.h5\")"
   ]
  },
  {
   "cell_type": "code",
   "execution_count": 22,
   "metadata": {},
   "outputs": [],
   "source": [
    "img=image.load_img(r\"D:\\geethanjaliexternship\\source files/rose.jpg\",target_size=(64,64))"
   ]
  },
  {
   "cell_type": "code",
   "execution_count": 23,
   "metadata": {},
   "outputs": [
    {
     "data": {
      "text/plain": [
       "PIL.Image.Image"
      ]
     },
     "execution_count": 23,
     "metadata": {},
     "output_type": "execute_result"
    }
   ],
   "source": [
    "type(img)"
   ]
  },
  {
   "cell_type": "code",
   "execution_count": 24,
   "metadata": {},
   "outputs": [],
   "source": [
    "x=image.img_to_array(img)"
   ]
  },
  {
   "cell_type": "code",
   "execution_count": 25,
   "metadata": {},
   "outputs": [
    {
     "data": {
      "text/plain": [
       "numpy.ndarray"
      ]
     },
     "execution_count": 25,
     "metadata": {},
     "output_type": "execute_result"
    }
   ],
   "source": [
    "type(x)"
   ]
  },
  {
   "cell_type": "code",
   "execution_count": 26,
   "metadata": {},
   "outputs": [
    {
     "data": {
      "text/plain": [
       "(64, 64, 3)"
      ]
     },
     "execution_count": 26,
     "metadata": {},
     "output_type": "execute_result"
    }
   ],
   "source": [
    "x.shape"
   ]
  },
  {
   "cell_type": "code",
   "execution_count": 27,
   "metadata": {},
   "outputs": [],
   "source": [
    "x=np.expand_dims(x,axis=0)"
   ]
  },
  {
   "cell_type": "code",
   "execution_count": 28,
   "metadata": {},
   "outputs": [
    {
     "data": {
      "text/plain": [
       "(1, 64, 64, 3)"
      ]
     },
     "execution_count": 28,
     "metadata": {},
     "output_type": "execute_result"
    }
   ],
   "source": [
    "x.shape"
   ]
  },
  {
   "cell_type": "code",
   "execution_count": 29,
   "metadata": {},
   "outputs": [
    {
     "name": "stderr",
     "output_type": "stream",
     "text": [
      "C:\\Users\\heart\\Anaconda3\\lib\\site-packages\\tensorflow\\python\\keras\\engine\\sequential.py:450: UserWarning: `model.predict_classes()` is deprecated and will be removed after 2021-01-01. Please use instead:* `np.argmax(model.predict(x), axis=-1)`,   if your model does multi-class classification   (e.g. if it uses a `softmax` last-layer activation).* `(model.predict(x) > 0.5).astype(\"int32\")`,   if your model does binary classification   (e.g. if it uses a `sigmoid` last-layer activation).\n",
      "  warnings.warn('`model.predict_classes()` is deprecated and '\n"
     ]
    }
   ],
   "source": [
    "pred=model.predict_classes(x)"
   ]
  },
  {
   "cell_type": "code",
   "execution_count": 30,
   "metadata": {},
   "outputs": [
    {
     "data": {
      "text/plain": [
       "2"
      ]
     },
     "execution_count": 30,
     "metadata": {},
     "output_type": "execute_result"
    }
   ],
   "source": [
    "pred[0]"
   ]
  },
  {
   "cell_type": "code",
   "execution_count": 31,
   "metadata": {},
   "outputs": [
    {
     "name": "stdout",
     "output_type": "stream",
     "text": [
      "rose\n"
     ]
    }
   ],
   "source": [
    "print(index[pred[0]])"
   ]
  },
  {
   "cell_type": "code",
   "execution_count": null,
   "metadata": {},
   "outputs": [],
   "source": []
  }
 ],
 "metadata": {
  "kernelspec": {
   "display_name": "Python 3",
   "language": "python",
   "name": "python3"
  },
  "language_info": {
   "codemirror_mode": {
    "name": "ipython",
    "version": 3
   },
   "file_extension": ".py",
   "mimetype": "text/x-python",
   "name": "python",
   "nbconvert_exporter": "python",
   "pygments_lexer": "ipython3",
   "version": "3.7.3"
  }
 },
 "nbformat": 4,
 "nbformat_minor": 2
}
