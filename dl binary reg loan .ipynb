{
 "cells": [
  {
   "cell_type": "code",
   "execution_count": 1,
   "metadata": {},
   "outputs": [],
   "source": [
    "import numpy as np\n",
    "import pandas as pd"
   ]
  },
  {
   "cell_type": "code",
   "execution_count": 2,
   "metadata": {},
   "outputs": [],
   "source": [
    "dataset = pd.read_csv(r\"D:\\geethanjaliexternship\\source files\\loan_data.csv\")"
   ]
  },
  {
   "cell_type": "code",
   "execution_count": 3,
   "metadata": {},
   "outputs": [
    {
     "data": {
      "text/html": [
       "<div>\n",
       "<style scoped>\n",
       "    .dataframe tbody tr th:only-of-type {\n",
       "        vertical-align: middle;\n",
       "    }\n",
       "\n",
       "    .dataframe tbody tr th {\n",
       "        vertical-align: top;\n",
       "    }\n",
       "\n",
       "    .dataframe thead th {\n",
       "        text-align: right;\n",
       "    }\n",
       "</style>\n",
       "<table border=\"1\" class=\"dataframe\">\n",
       "  <thead>\n",
       "    <tr style=\"text-align: right;\">\n",
       "      <th></th>\n",
       "      <th>credit.policy</th>\n",
       "      <th>purpose</th>\n",
       "      <th>int.rate</th>\n",
       "      <th>installment</th>\n",
       "      <th>log.annual.inc</th>\n",
       "      <th>dti</th>\n",
       "      <th>fico</th>\n",
       "      <th>days.with.cr.line</th>\n",
       "      <th>revol.bal</th>\n",
       "      <th>revol.util</th>\n",
       "      <th>inq.last.6mths</th>\n",
       "      <th>delinq.2yrs</th>\n",
       "      <th>pub.rec</th>\n",
       "      <th>not.fully.paid</th>\n",
       "    </tr>\n",
       "  </thead>\n",
       "  <tbody>\n",
       "    <tr>\n",
       "      <th>0</th>\n",
       "      <td>1</td>\n",
       "      <td>debt_consolidation</td>\n",
       "      <td>0.1189</td>\n",
       "      <td>829.10</td>\n",
       "      <td>11.350407</td>\n",
       "      <td>19.48</td>\n",
       "      <td>737</td>\n",
       "      <td>5639.958333</td>\n",
       "      <td>28854</td>\n",
       "      <td>52.1</td>\n",
       "      <td>0</td>\n",
       "      <td>0</td>\n",
       "      <td>0</td>\n",
       "      <td>0</td>\n",
       "    </tr>\n",
       "    <tr>\n",
       "      <th>1</th>\n",
       "      <td>1</td>\n",
       "      <td>credit_card</td>\n",
       "      <td>0.1071</td>\n",
       "      <td>228.22</td>\n",
       "      <td>11.082143</td>\n",
       "      <td>14.29</td>\n",
       "      <td>707</td>\n",
       "      <td>2760.000000</td>\n",
       "      <td>33623</td>\n",
       "      <td>76.7</td>\n",
       "      <td>0</td>\n",
       "      <td>0</td>\n",
       "      <td>0</td>\n",
       "      <td>0</td>\n",
       "    </tr>\n",
       "    <tr>\n",
       "      <th>2</th>\n",
       "      <td>1</td>\n",
       "      <td>debt_consolidation</td>\n",
       "      <td>0.1357</td>\n",
       "      <td>366.86</td>\n",
       "      <td>10.373491</td>\n",
       "      <td>11.63</td>\n",
       "      <td>682</td>\n",
       "      <td>4710.000000</td>\n",
       "      <td>3511</td>\n",
       "      <td>25.6</td>\n",
       "      <td>1</td>\n",
       "      <td>0</td>\n",
       "      <td>0</td>\n",
       "      <td>0</td>\n",
       "    </tr>\n",
       "    <tr>\n",
       "      <th>3</th>\n",
       "      <td>1</td>\n",
       "      <td>debt_consolidation</td>\n",
       "      <td>0.1008</td>\n",
       "      <td>162.34</td>\n",
       "      <td>11.350407</td>\n",
       "      <td>8.10</td>\n",
       "      <td>712</td>\n",
       "      <td>2699.958333</td>\n",
       "      <td>33667</td>\n",
       "      <td>73.2</td>\n",
       "      <td>1</td>\n",
       "      <td>0</td>\n",
       "      <td>0</td>\n",
       "      <td>0</td>\n",
       "    </tr>\n",
       "    <tr>\n",
       "      <th>4</th>\n",
       "      <td>1</td>\n",
       "      <td>credit_card</td>\n",
       "      <td>0.1426</td>\n",
       "      <td>102.92</td>\n",
       "      <td>11.299732</td>\n",
       "      <td>14.97</td>\n",
       "      <td>667</td>\n",
       "      <td>4066.000000</td>\n",
       "      <td>4740</td>\n",
       "      <td>39.5</td>\n",
       "      <td>0</td>\n",
       "      <td>1</td>\n",
       "      <td>0</td>\n",
       "      <td>0</td>\n",
       "    </tr>\n",
       "  </tbody>\n",
       "</table>\n",
       "</div>"
      ],
      "text/plain": [
       "   credit.policy             purpose  int.rate  installment  log.annual.inc  \\\n",
       "0              1  debt_consolidation    0.1189       829.10       11.350407   \n",
       "1              1         credit_card    0.1071       228.22       11.082143   \n",
       "2              1  debt_consolidation    0.1357       366.86       10.373491   \n",
       "3              1  debt_consolidation    0.1008       162.34       11.350407   \n",
       "4              1         credit_card    0.1426       102.92       11.299732   \n",
       "\n",
       "     dti  fico  days.with.cr.line  revol.bal  revol.util  inq.last.6mths  \\\n",
       "0  19.48   737        5639.958333      28854        52.1               0   \n",
       "1  14.29   707        2760.000000      33623        76.7               0   \n",
       "2  11.63   682        4710.000000       3511        25.6               1   \n",
       "3   8.10   712        2699.958333      33667        73.2               1   \n",
       "4  14.97   667        4066.000000       4740        39.5               0   \n",
       "\n",
       "   delinq.2yrs  pub.rec  not.fully.paid  \n",
       "0            0        0               0  \n",
       "1            0        0               0  \n",
       "2            0        0               0  \n",
       "3            0        0               0  \n",
       "4            1        0               0  "
      ]
     },
     "execution_count": 3,
     "metadata": {},
     "output_type": "execute_result"
    }
   ],
   "source": [
    "dataset.head()"
   ]
  },
  {
   "cell_type": "code",
   "execution_count": 4,
   "metadata": {},
   "outputs": [
    {
     "data": {
      "text/plain": [
       "credit.policy        False\n",
       "purpose              False\n",
       "int.rate             False\n",
       "installment          False\n",
       "log.annual.inc       False\n",
       "dti                  False\n",
       "fico                 False\n",
       "days.with.cr.line    False\n",
       "revol.bal            False\n",
       "revol.util           False\n",
       "inq.last.6mths       False\n",
       "delinq.2yrs          False\n",
       "pub.rec              False\n",
       "not.fully.paid       False\n",
       "dtype: bool"
      ]
     },
     "execution_count": 4,
     "metadata": {},
     "output_type": "execute_result"
    }
   ],
   "source": [
    "dataset.isnull().any()"
   ]
  },
  {
   "cell_type": "code",
   "execution_count": 7,
   "metadata": {},
   "outputs": [],
   "source": [
    "x = dataset.iloc[:,2:13].values\n",
    "y = dataset.iloc[:,13].values"
   ]
  },
  {
   "cell_type": "code",
   "execution_count": 8,
   "metadata": {},
   "outputs": [
    {
     "data": {
      "text/plain": [
       "array([[1.18900000e-01, 8.29100000e+02, 1.13504065e+01, ...,\n",
       "        0.00000000e+00, 0.00000000e+00, 0.00000000e+00],\n",
       "       [1.07100000e-01, 2.28220000e+02, 1.10821426e+01, ...,\n",
       "        0.00000000e+00, 0.00000000e+00, 0.00000000e+00],\n",
       "       [1.35700000e-01, 3.66860000e+02, 1.03734912e+01, ...,\n",
       "        1.00000000e+00, 0.00000000e+00, 0.00000000e+00],\n",
       "       ...,\n",
       "       [1.07100000e-01, 9.78100000e+01, 1.05966347e+01, ...,\n",
       "        8.00000000e+00, 0.00000000e+00, 0.00000000e+00],\n",
       "       [1.60000000e-01, 3.51580000e+02, 1.08197783e+01, ...,\n",
       "        5.00000000e+00, 0.00000000e+00, 0.00000000e+00],\n",
       "       [1.39200000e-01, 8.53430000e+02, 1.12644641e+01, ...,\n",
       "        6.00000000e+00, 0.00000000e+00, 0.00000000e+00]])"
      ]
     },
     "execution_count": 8,
     "metadata": {},
     "output_type": "execute_result"
    }
   ],
   "source": [
    "x"
   ]
  },
  {
   "cell_type": "code",
   "execution_count": 9,
   "metadata": {},
   "outputs": [
    {
     "data": {
      "text/plain": [
       "array([0, 0, 0, ..., 1, 1, 1], dtype=int64)"
      ]
     },
     "execution_count": 9,
     "metadata": {},
     "output_type": "execute_result"
    }
   ],
   "source": [
    "y"
   ]
  },
  {
   "cell_type": "code",
   "execution_count": 12,
   "metadata": {},
   "outputs": [],
   "source": [
    "from sklearn.model_selection import train_test_split\n",
    "x_train,x_test,y_train,y_test = train_test_split(x,y ,test_size = 0.2, random_state= 0)"
   ]
  },
  {
   "cell_type": "code",
   "execution_count": 13,
   "metadata": {},
   "outputs": [
    {
     "data": {
      "text/plain": [
       "(7662, 11)"
      ]
     },
     "execution_count": 13,
     "metadata": {},
     "output_type": "execute_result"
    }
   ],
   "source": [
    "x_train.shape"
   ]
  },
  {
   "cell_type": "code",
   "execution_count": 14,
   "metadata": {},
   "outputs": [
    {
     "data": {
      "text/plain": [
       "(1916, 11)"
      ]
     },
     "execution_count": 14,
     "metadata": {},
     "output_type": "execute_result"
    }
   ],
   "source": [
    "x_test.shape"
   ]
  },
  {
   "cell_type": "code",
   "execution_count": 15,
   "metadata": {},
   "outputs": [
    {
     "data": {
      "text/plain": [
       "(7662,)"
      ]
     },
     "execution_count": 15,
     "metadata": {},
     "output_type": "execute_result"
    }
   ],
   "source": [
    "y_train.shape"
   ]
  },
  {
   "cell_type": "code",
   "execution_count": 16,
   "metadata": {},
   "outputs": [
    {
     "data": {
      "text/plain": [
       "(1916,)"
      ]
     },
     "execution_count": 16,
     "metadata": {},
     "output_type": "execute_result"
    }
   ],
   "source": [
    "y_test.shape"
   ]
  },
  {
   "cell_type": "code",
   "execution_count": 17,
   "metadata": {},
   "outputs": [],
   "source": [
    "from sklearn.preprocessing import StandardScaler\n",
    "sc = StandardScaler()\n",
    " \n",
    "x_train = sc.fit_transform(x_train)\n",
    "x_test = sc.fit_transform(x_test)"
   ]
  },
  {
   "cell_type": "code",
   "execution_count": 19,
   "metadata": {},
   "outputs": [],
   "source": [
    "from tensorflow.keras.models import Sequential \n",
    "from tensorflow.keras.layers import Dense"
   ]
  },
  {
   "cell_type": "code",
   "execution_count": 20,
   "metadata": {},
   "outputs": [],
   "source": [
    "bnn = Sequential()"
   ]
  },
  {
   "cell_type": "code",
   "execution_count": 21,
   "metadata": {},
   "outputs": [],
   "source": [
    "bnn.add(Dense(11,kernel_initializer = \"random_uniform\" , activation = \"relu\"))"
   ]
  },
  {
   "cell_type": "code",
   "execution_count": 22,
   "metadata": {},
   "outputs": [],
   "source": [
    "bnn.add(Dense(22,kernel_initializer = \"random_uniform\" , activation = \"relu\"))"
   ]
  },
  {
   "cell_type": "code",
   "execution_count": 24,
   "metadata": {},
   "outputs": [],
   "source": [
    "bnn.add(Dense(1,kernel_initializer = \"random_uniform\" , activation = \"sigmoid\"))"
   ]
  },
  {
   "cell_type": "code",
   "execution_count": 25,
   "metadata": {},
   "outputs": [],
   "source": [
    "bnn.compile(\"adam\" , \"binary_crossentropy\" , metrics = [\"accuracy\"])"
   ]
  },
  {
   "cell_type": "code",
   "execution_count": 26,
   "metadata": {},
   "outputs": [
    {
     "name": "stdout",
     "output_type": "stream",
     "text": [
      "Epoch 1/100\n",
      "240/240 [==============================] - 2s 2ms/step - loss: 0.5962 - accuracy: 0.8325\n",
      "Epoch 2/100\n",
      "240/240 [==============================] - 1s 2ms/step - loss: 0.4255 - accuracy: 0.8359\n",
      "Epoch 3/100\n",
      "240/240 [==============================] - 1s 2ms/step - loss: 0.4099 - accuracy: 0.8432\n",
      "Epoch 4/100\n",
      "240/240 [==============================] - 1s 2ms/step - loss: 0.4071 - accuracy: 0.8428\n",
      "Epoch 5/100\n",
      "240/240 [==============================] - 1s 2ms/step - loss: 0.4108 - accuracy: 0.8430\n",
      "Epoch 6/100\n",
      "240/240 [==============================] - 1s 2ms/step - loss: 0.4108 - accuracy: 0.8427\n",
      "Epoch 7/100\n",
      "240/240 [==============================] - 1s 2ms/step - loss: 0.4150 - accuracy: 0.8396\n",
      "Epoch 8/100\n",
      "240/240 [==============================] - 1s 2ms/step - loss: 0.4029 - accuracy: 0.8433\n",
      "Epoch 9/100\n",
      "240/240 [==============================] - 1s 2ms/step - loss: 0.4112 - accuracy: 0.8418\n",
      "Epoch 10/100\n",
      "240/240 [==============================] - 1s 2ms/step - loss: 0.4248 - accuracy: 0.8333\n",
      "Epoch 11/100\n",
      "240/240 [==============================] - 1s 2ms/step - loss: 0.4185 - accuracy: 0.8367\n",
      "Epoch 12/100\n",
      "240/240 [==============================] - 1s 2ms/step - loss: 0.4218 - accuracy: 0.8339\n",
      "Epoch 13/100\n",
      "240/240 [==============================] - 1s 2ms/step - loss: 0.4022 - accuracy: 0.8442\n",
      "Epoch 14/100\n",
      "240/240 [==============================] - 1s 2ms/step - loss: 0.4193 - accuracy: 0.8346\n",
      "Epoch 15/100\n",
      "240/240 [==============================] - 1s 2ms/step - loss: 0.4013 - accuracy: 0.8435\n",
      "Epoch 16/100\n",
      "240/240 [==============================] - 1s 2ms/step - loss: 0.4060 - accuracy: 0.8429\n",
      "Epoch 17/100\n",
      "240/240 [==============================] - 1s 2ms/step - loss: 0.4126 - accuracy: 0.8397\n",
      "Epoch 18/100\n",
      "240/240 [==============================] - 1s 2ms/step - loss: 0.4225 - accuracy: 0.8334\n",
      "Epoch 19/100\n",
      "240/240 [==============================] - 1s 2ms/step - loss: 0.4114 - accuracy: 0.8369\n",
      "Epoch 20/100\n",
      "240/240 [==============================] - 1s 2ms/step - loss: 0.4160 - accuracy: 0.8380\n",
      "Epoch 21/100\n",
      "240/240 [==============================] - 1s 2ms/step - loss: 0.4067 - accuracy: 0.8404\n",
      "Epoch 22/100\n",
      "240/240 [==============================] - 1s 2ms/step - loss: 0.4206 - accuracy: 0.8341\n",
      "Epoch 23/100\n",
      "240/240 [==============================] - 1s 2ms/step - loss: 0.4151 - accuracy: 0.8384\n",
      "Epoch 24/100\n",
      "240/240 [==============================] - 1s 2ms/step - loss: 0.4066 - accuracy: 0.8403\n",
      "Epoch 25/100\n",
      "240/240 [==============================] - 1s 2ms/step - loss: 0.4068 - accuracy: 0.8429\n",
      "Epoch 26/100\n",
      "240/240 [==============================] - 1s 2ms/step - loss: 0.4194 - accuracy: 0.8363\n",
      "Epoch 27/100\n",
      "240/240 [==============================] - 1s 2ms/step - loss: 0.4066 - accuracy: 0.8403\n",
      "Epoch 28/100\n",
      "240/240 [==============================] - 1s 2ms/step - loss: 0.3909 - accuracy: 0.8487\n",
      "Epoch 29/100\n",
      "240/240 [==============================] - 1s 2ms/step - loss: 0.4157 - accuracy: 0.8330\n",
      "Epoch 30/100\n",
      "240/240 [==============================] - 1s 2ms/step - loss: 0.4020 - accuracy: 0.8449\n",
      "Epoch 31/100\n",
      "240/240 [==============================] - 1s 2ms/step - loss: 0.4079 - accuracy: 0.8421\n",
      "Epoch 32/100\n",
      "240/240 [==============================] - 1s 2ms/step - loss: 0.4033 - accuracy: 0.8417\n",
      "Epoch 33/100\n",
      "240/240 [==============================] - 1s 2ms/step - loss: 0.4111 - accuracy: 0.8389\n",
      "Epoch 34/100\n",
      "240/240 [==============================] - 1s 2ms/step - loss: 0.4199 - accuracy: 0.8359\n",
      "Epoch 35/100\n",
      "240/240 [==============================] - 1s 2ms/step - loss: 0.4041 - accuracy: 0.8424\n",
      "Epoch 36/100\n",
      "240/240 [==============================] - 1s 2ms/step - loss: 0.4052 - accuracy: 0.8420\n",
      "Epoch 37/100\n",
      "240/240 [==============================] - 1s 2ms/step - loss: 0.4067 - accuracy: 0.8426\n",
      "Epoch 38/100\n",
      "240/240 [==============================] - 1s 2ms/step - loss: 0.4052 - accuracy: 0.8412\n",
      "Epoch 39/100\n",
      "240/240 [==============================] - 1s 2ms/step - loss: 0.4070 - accuracy: 0.8417\n",
      "Epoch 40/100\n",
      "240/240 [==============================] - 1s 2ms/step - loss: 0.4107 - accuracy: 0.8377\n",
      "Epoch 41/100\n",
      "240/240 [==============================] - 1s 2ms/step - loss: 0.3991 - accuracy: 0.8454\n",
      "Epoch 42/100\n",
      "240/240 [==============================] - 1s 2ms/step - loss: 0.4104 - accuracy: 0.8388\n",
      "Epoch 43/100\n",
      "240/240 [==============================] - 1s 2ms/step - loss: 0.4121 - accuracy: 0.8417\n",
      "Epoch 44/100\n",
      "240/240 [==============================] - 1s 2ms/step - loss: 0.4151 - accuracy: 0.8398\n",
      "Epoch 45/100\n",
      "240/240 [==============================] - 0s 2ms/step - loss: 0.4055 - accuracy: 0.8418\n",
      "Epoch 46/100\n",
      "240/240 [==============================] - 1s 2ms/step - loss: 0.3968 - accuracy: 0.8479\n",
      "Epoch 47/100\n",
      "240/240 [==============================] - 1s 2ms/step - loss: 0.4062 - accuracy: 0.8436\n",
      "Epoch 48/100\n",
      "240/240 [==============================] - 1s 2ms/step - loss: 0.4085 - accuracy: 0.8429\n",
      "Epoch 49/100\n",
      "240/240 [==============================] - 1s 2ms/step - loss: 0.4155 - accuracy: 0.8366\n",
      "Epoch 50/100\n",
      "240/240 [==============================] - 1s 2ms/step - loss: 0.4175 - accuracy: 0.8361\n",
      "Epoch 51/100\n",
      "240/240 [==============================] - 1s 2ms/step - loss: 0.4078 - accuracy: 0.8418\n",
      "Epoch 52/100\n",
      "240/240 [==============================] - 1s 2ms/step - loss: 0.4063 - accuracy: 0.8438\n",
      "Epoch 53/100\n",
      "240/240 [==============================] - 1s 2ms/step - loss: 0.4108 - accuracy: 0.8379\n",
      "Epoch 54/100\n",
      "240/240 [==============================] - 1s 2ms/step - loss: 0.4054 - accuracy: 0.8422\n",
      "Epoch 55/100\n",
      "240/240 [==============================] - 1s 2ms/step - loss: 0.4080 - accuracy: 0.8388\n",
      "Epoch 56/100\n",
      "240/240 [==============================] - 1s 2ms/step - loss: 0.4198 - accuracy: 0.8352\n",
      "Epoch 57/100\n",
      "240/240 [==============================] - 1s 2ms/step - loss: 0.3980 - accuracy: 0.8454\n",
      "Epoch 58/100\n",
      "240/240 [==============================] - 1s 2ms/step - loss: 0.4081 - accuracy: 0.8391\n",
      "Epoch 59/100\n",
      "240/240 [==============================] - 1s 2ms/step - loss: 0.4053 - accuracy: 0.8412\n",
      "Epoch 60/100\n",
      "240/240 [==============================] - 1s 2ms/step - loss: 0.4054 - accuracy: 0.8442\n",
      "Epoch 61/100\n",
      "240/240 [==============================] - 1s 2ms/step - loss: 0.4182 - accuracy: 0.8339\n",
      "Epoch 62/100\n",
      "240/240 [==============================] - 1s 2ms/step - loss: 0.4086 - accuracy: 0.8389\n",
      "Epoch 63/100\n",
      "240/240 [==============================] - 1s 2ms/step - loss: 0.4029 - accuracy: 0.8425\n",
      "Epoch 64/100\n",
      "240/240 [==============================] - 1s 2ms/step - loss: 0.3946 - accuracy: 0.8463\n",
      "Epoch 65/100\n",
      "240/240 [==============================] - 1s 2ms/step - loss: 0.4125 - accuracy: 0.8357\n",
      "Epoch 66/100\n",
      "240/240 [==============================] - 1s 2ms/step - loss: 0.4094 - accuracy: 0.8403\n",
      "Epoch 67/100\n",
      "240/240 [==============================] - 1s 2ms/step - loss: 0.4090 - accuracy: 0.8415\n",
      "Epoch 68/100\n",
      "240/240 [==============================] - 1s 2ms/step - loss: 0.4153 - accuracy: 0.8375\n",
      "Epoch 69/100\n",
      "240/240 [==============================] - 0s 2ms/step - loss: 0.4183 - accuracy: 0.8347\n",
      "Epoch 70/100\n",
      "240/240 [==============================] - 1s 2ms/step - loss: 0.3983 - accuracy: 0.8460\n",
      "Epoch 71/100\n",
      "240/240 [==============================] - 1s 2ms/step - loss: 0.3990 - accuracy: 0.8484\n",
      "Epoch 72/100\n",
      "240/240 [==============================] - 1s 2ms/step - loss: 0.4127 - accuracy: 0.8388\n",
      "Epoch 73/100\n",
      "240/240 [==============================] - 1s 2ms/step - loss: 0.4092 - accuracy: 0.8388\n",
      "Epoch 74/100\n",
      "240/240 [==============================] - 1s 2ms/step - loss: 0.4121 - accuracy: 0.8377\n",
      "Epoch 75/100\n",
      "240/240 [==============================] - 1s 2ms/step - loss: 0.4071 - accuracy: 0.8427\n",
      "Epoch 76/100\n",
      "240/240 [==============================] - 1s 2ms/step - loss: 0.3992 - accuracy: 0.8453\n",
      "Epoch 77/100\n",
      "240/240 [==============================] - 1s 2ms/step - loss: 0.4016 - accuracy: 0.8471\n",
      "Epoch 78/100\n",
      "240/240 [==============================] - 1s 2ms/step - loss: 0.4018 - accuracy: 0.8428\n",
      "Epoch 79/100\n",
      "240/240 [==============================] - 1s 2ms/step - loss: 0.4042 - accuracy: 0.8429\n",
      "Epoch 80/100\n",
      "240/240 [==============================] - 1s 2ms/step - loss: 0.4085 - accuracy: 0.8412\n",
      "Epoch 81/100\n"
     ]
    },
    {
     "name": "stdout",
     "output_type": "stream",
     "text": [
      "240/240 [==============================] - 1s 2ms/step - loss: 0.4056 - accuracy: 0.8430\n",
      "Epoch 82/100\n",
      "240/240 [==============================] - 1s 2ms/step - loss: 0.4124 - accuracy: 0.8411\n",
      "Epoch 83/100\n",
      "240/240 [==============================] - 1s 2ms/step - loss: 0.4092 - accuracy: 0.8411\n",
      "Epoch 84/100\n",
      "240/240 [==============================] - 1s 2ms/step - loss: 0.4081 - accuracy: 0.8410\n",
      "Epoch 85/100\n",
      "240/240 [==============================] - 1s 2ms/step - loss: 0.4020 - accuracy: 0.8436\n",
      "Epoch 86/100\n",
      "240/240 [==============================] - 1s 2ms/step - loss: 0.3996 - accuracy: 0.8483\n",
      "Epoch 87/100\n",
      "240/240 [==============================] - 1s 2ms/step - loss: 0.3915 - accuracy: 0.8499\n",
      "Epoch 88/100\n",
      "240/240 [==============================] - 1s 2ms/step - loss: 0.4061 - accuracy: 0.8411\n",
      "Epoch 89/100\n",
      "240/240 [==============================] - 1s 2ms/step - loss: 0.3995 - accuracy: 0.8457\n",
      "Epoch 90/100\n",
      "240/240 [==============================] - 1s 2ms/step - loss: 0.4148 - accuracy: 0.8354\n",
      "Epoch 91/100\n",
      "240/240 [==============================] - 1s 2ms/step - loss: 0.4000 - accuracy: 0.8450\n",
      "Epoch 92/100\n",
      "240/240 [==============================] - 1s 2ms/step - loss: 0.4033 - accuracy: 0.8431\n",
      "Epoch 93/100\n",
      "240/240 [==============================] - 1s 2ms/step - loss: 0.4104 - accuracy: 0.8399\n",
      "Epoch 94/100\n",
      "240/240 [==============================] - 1s 2ms/step - loss: 0.3989 - accuracy: 0.8455\n",
      "Epoch 95/100\n",
      "240/240 [==============================] - 1s 2ms/step - loss: 0.3997 - accuracy: 0.8449\n",
      "Epoch 96/100\n",
      "240/240 [==============================] - 1s 2ms/step - loss: 0.4190 - accuracy: 0.8354\n",
      "Epoch 97/100\n",
      "240/240 [==============================] - 1s 2ms/step - loss: 0.4177 - accuracy: 0.8349\n",
      "Epoch 98/100\n",
      "240/240 [==============================] - 1s 2ms/step - loss: 0.4109 - accuracy: 0.8427\n",
      "Epoch 99/100\n",
      "240/240 [==============================] - 1s 2ms/step - loss: 0.3916 - accuracy: 0.8484\n",
      "Epoch 100/100\n",
      "240/240 [==============================] - 1s 2ms/step - loss: 0.4091 - accuracy: 0.8432\n"
     ]
    },
    {
     "data": {
      "text/plain": [
       "<tensorflow.python.keras.callbacks.History at 0x22758b6a160>"
      ]
     },
     "execution_count": 26,
     "metadata": {},
     "output_type": "execute_result"
    }
   ],
   "source": [
    "bnn.fit(x_train,y_train, batch_size = 32 , epochs = 100)"
   ]
  },
  {
   "cell_type": "code",
   "execution_count": 27,
   "metadata": {},
   "outputs": [],
   "source": [
    "ypred = bnn.predict(x_test)"
   ]
  },
  {
   "cell_type": "code",
   "execution_count": 30,
   "metadata": {},
   "outputs": [
    {
     "data": {
      "text/plain": [
       "array([[ True],\n",
       "       [ True],\n",
       "       [ True],\n",
       "       ...,\n",
       "       [ True],\n",
       "       [ True],\n",
       "       [ True]])"
      ]
     },
     "execution_count": 30,
     "metadata": {},
     "output_type": "execute_result"
    }
   ],
   "source": [
    "ypred<0.5"
   ]
  },
  {
   "cell_type": "code",
   "execution_count": 31,
   "metadata": {},
   "outputs": [
    {
     "data": {
      "text/plain": [
       "array([ True,  True,  True, ...,  True, False,  True])"
      ]
     },
     "execution_count": 31,
     "metadata": {},
     "output_type": "execute_result"
    }
   ],
   "source": [
    "y_test<0.5"
   ]
  },
  {
   "cell_type": "code",
   "execution_count": 32,
   "metadata": {},
   "outputs": [
    {
     "data": {
      "text/html": [
       "<div>\n",
       "<style scoped>\n",
       "    .dataframe tbody tr th:only-of-type {\n",
       "        vertical-align: middle;\n",
       "    }\n",
       "\n",
       "    .dataframe tbody tr th {\n",
       "        vertical-align: top;\n",
       "    }\n",
       "\n",
       "    .dataframe thead th {\n",
       "        text-align: right;\n",
       "    }\n",
       "</style>\n",
       "<table border=\"1\" class=\"dataframe\">\n",
       "  <thead>\n",
       "    <tr style=\"text-align: right;\">\n",
       "      <th></th>\n",
       "      <th>credit.policy</th>\n",
       "      <th>purpose</th>\n",
       "      <th>int.rate</th>\n",
       "      <th>installment</th>\n",
       "      <th>log.annual.inc</th>\n",
       "      <th>dti</th>\n",
       "      <th>fico</th>\n",
       "      <th>days.with.cr.line</th>\n",
       "      <th>revol.bal</th>\n",
       "      <th>revol.util</th>\n",
       "      <th>inq.last.6mths</th>\n",
       "      <th>delinq.2yrs</th>\n",
       "      <th>pub.rec</th>\n",
       "      <th>not.fully.paid</th>\n",
       "    </tr>\n",
       "  </thead>\n",
       "  <tbody>\n",
       "    <tr>\n",
       "      <th>0</th>\n",
       "      <td>1</td>\n",
       "      <td>debt_consolidation</td>\n",
       "      <td>0.1189</td>\n",
       "      <td>829.1</td>\n",
       "      <td>11.350407</td>\n",
       "      <td>19.48</td>\n",
       "      <td>737</td>\n",
       "      <td>5639.958333</td>\n",
       "      <td>28854</td>\n",
       "      <td>52.1</td>\n",
       "      <td>0</td>\n",
       "      <td>0</td>\n",
       "      <td>0</td>\n",
       "      <td>0</td>\n",
       "    </tr>\n",
       "  </tbody>\n",
       "</table>\n",
       "</div>"
      ],
      "text/plain": [
       "   credit.policy             purpose  int.rate  installment  log.annual.inc  \\\n",
       "0              1  debt_consolidation    0.1189        829.1       11.350407   \n",
       "\n",
       "     dti  fico  days.with.cr.line  revol.bal  revol.util  inq.last.6mths  \\\n",
       "0  19.48   737        5639.958333      28854        52.1               0   \n",
       "\n",
       "   delinq.2yrs  pub.rec  not.fully.paid  \n",
       "0            0        0               0  "
      ]
     },
     "execution_count": 32,
     "metadata": {},
     "output_type": "execute_result"
    }
   ],
   "source": [
    "dataset.head(1)"
   ]
  },
  {
   "cell_type": "code",
   "execution_count": 33,
   "metadata": {},
   "outputs": [
    {
     "name": "stderr",
     "output_type": "stream",
     "text": [
      "C:\\Users\\heart\\Anaconda3\\lib\\site-packages\\tensorflow\\python\\keras\\engine\\sequential.py:450: UserWarning: `model.predict_classes()` is deprecated and will be removed after 2021-01-01. Please use instead:* `np.argmax(model.predict(x), axis=-1)`,   if your model does multi-class classification   (e.g. if it uses a `softmax` last-layer activation).* `(model.predict(x) > 0.5).astype(\"int32\")`,   if your model does binary classification   (e.g. if it uses a `sigmoid` last-layer activation).\n",
      "  warnings.warn('`model.predict_classes()` is deprecated and '\n"
     ]
    }
   ],
   "source": [
    "yp = bnn.predict_classes(sc.transform([[0.122,12.1,11.11,12.2,532,1234.432,12567,33.2,1,1,0]]))"
   ]
  },
  {
   "cell_type": "code",
   "execution_count": 34,
   "metadata": {},
   "outputs": [
    {
     "data": {
      "text/plain": [
       "array([[0]])"
      ]
     },
     "execution_count": 34,
     "metadata": {},
     "output_type": "execute_result"
    }
   ],
   "source": [
    "yp"
   ]
  },
  {
   "cell_type": "code",
   "execution_count": null,
   "metadata": {},
   "outputs": [],
   "source": []
  }
 ],
 "metadata": {
  "kernelspec": {
   "display_name": "Python 3",
   "language": "python",
   "name": "python3"
  },
  "language_info": {
   "codemirror_mode": {
    "name": "ipython",
    "version": 3
   },
   "file_extension": ".py",
   "mimetype": "text/x-python",
   "name": "python",
   "nbconvert_exporter": "python",
   "pygments_lexer": "ipython3",
   "version": "3.7.3"
  }
 },
 "nbformat": 4,
 "nbformat_minor": 2
}
